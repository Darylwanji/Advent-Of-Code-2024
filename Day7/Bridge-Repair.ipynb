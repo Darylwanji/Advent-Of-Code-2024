{
 "cells": [
  {
   "cell_type": "markdown",
   "metadata": {},
   "source": [
    "--- Day 7: Bridge Repair ---\n",
    "The Historians take you to a familiar rope bridge over a river in the middle of a jungle. The Chief isn't on this side of the bridge, though; maybe he's on the other side?\n",
    "\n",
    "When you go to cross the bridge, you notice a group of engineers trying to repair it. (Apparently, it breaks pretty frequently.) You won't be able to cross until it's fixed.\n",
    "\n",
    "You ask how long it'll take; the engineers tell you that it only needs final calibrations, but some young elephants were playing nearby and stole all the operators from their calibration equations! They could finish the calibrations if only someone could determine which test values could possibly be produced by placing any combination of operators into their calibration equations (your puzzle input).\n",
    "\n",
    "For example:\n",
    "\n",
    "190: 10 19  \n",
    "3267: 81 40 27  \n",
    "83: 17 5  \n",
    "156: 15 6  \n",
    "7290: 6 8 6 15  \n",
    "161011: 16 10 13  \n",
    "192: 17 8 14  \n",
    "21037: 9 7 18 13    \n",
    "292: 11 6 16 20     \n",
    "Each line represents a single equation. The test value appears before the colon on each line; it is your job to determine whether the remaining numbers can be combined with operators to produce the test value.\n",
    "\n",
    "Operators are always evaluated left-to-right, not according to precedence rules. Furthermore, numbers in the equations cannot be rearranged. Glancing into the jungle, you can see elephants holding two different types of operators: add (+) and multiply (*).\n",
    "\n",
    "Only three of the above equations can be made true by inserting operators:\n",
    "\n",
    "190: 10 19 has only one position that accepts an operator: between 10 and 19. Choosing + would give 29, but choosing * would give the test value (10 * 19 = 190).\n",
    "3267: 81 40 27 has two positions for operators. Of the four possible configurations of the operators, two cause the right side to match the test value: 81 + 40 * 27 and 81 * 40 + 27 both equal 3267 (when evaluated left-to-right)!\n",
    "292: 11 6 16 20 can be solved in exactly one way: 11 + 6 * 16 + 20.\n",
    "The engineers just need the total calibration result, which is the sum of the test values from just the equations that could possibly be true. In the above example, the sum of the test values for the three equations listed above is 3749.\n",
    "\n",
    "Determine which equations could possibly be true. What is their total calibration result?\n",
    "\n"
   ]
  },
  {
   "cell_type": "code",
   "execution_count": 21,
   "metadata": {},
   "outputs": [
    {
     "name": "stdout",
     "output_type": "stream",
     "text": [
      "3119088655389\n"
     ]
    }
   ],
   "source": [
    "import operator\n",
    "from itertools import product\n",
    "\n",
    "operators = {\n",
    "    '+': operator.add,\n",
    "    '*': operator.mul\n",
    "}\n",
    "\n",
    "sum_of_test_values = 0\n",
    "\n",
    "def evaluate_expression(right_side, ops):\n",
    "    result = right_side[0]\n",
    "    for num, op in zip(right_side[1:], ops):\n",
    "        result = operators[op](result, num)  # Simplified operator application\n",
    "    return result\n",
    "\n",
    "def find_possible_combinations(left_side, right_side):\n",
    "    # Generate all combinations of operators\n",
    "    ops_combinations = product(operators.keys(), repeat=len(right_side)-1)\n",
    "    for ops in ops_combinations:\n",
    "        if evaluate_expression(right_side, ops) == left_side:\n",
    "            expression = \" \".join(f\"{right_side[i]} {ops[i-1]}\" if i > 0 else str(right_side[i]) for i in range(len(right_side)))\n",
    "            return f\"{left_side}: {expression}\"\n",
    "\n",
    "with open('input.txt', 'r') as file:\n",
    "    lines = file.readlines()\n",
    "    for line in lines:\n",
    "        current_line = line.strip().split(':')\n",
    "        left_side = int(current_line[0])\n",
    "        right_side = list(map(int, current_line[1].split()))\n",
    "        possible_combinations = find_possible_combinations(left_side, right_side)\n",
    "        if possible_combinations:\n",
    "            sum_of_test_values += left_side\n",
    "\n",
    "print(sum_of_test_values)"
   ]
  },
  {
   "cell_type": "code",
   "execution_count": 22,
   "metadata": {},
   "outputs": [
    {
     "name": "stdout",
     "output_type": "stream",
     "text": [
      "264184041398847\n"
     ]
    }
   ],
   "source": [
    "import operator\n",
    "from itertools import product\n",
    "\n",
    "operators = {\n",
    "    '+': operator.add,\n",
    "    '*': operator.mul,\n",
    "    '||': lambda x, y: int(f\"{x}{y}\")\n",
    "}\n",
    "\n",
    "sum_of_test_values = 0\n",
    "\n",
    "def evaluate_expression(right_side, ops):\n",
    "    result = right_side[0]\n",
    "    for num, op in zip(right_side[1:], ops):\n",
    "        result = operators[op](result, num)  # Simplified operator application\n",
    "    return result\n",
    "\n",
    "def find_possible_combinations(left_side, right_side):\n",
    "    # Generate all combinations of operators\n",
    "    ops_combinations = product(operators.keys(), repeat=len(right_side)-1)\n",
    "    for ops in ops_combinations:\n",
    "        if evaluate_expression(right_side, ops) == left_side:\n",
    "            expression = \" \".join(f\"{right_side[i]} {ops[i-1]}\" if i > 0 else str(right_side[i]) for i in range(len(right_side)))\n",
    "            return f\"{left_side}: {expression}\"\n",
    "\n",
    "with open('input.txt', 'r') as file:\n",
    "    lines = file.readlines()\n",
    "    for line in lines:\n",
    "        current_line = line.strip().split(':')\n",
    "        left_side = int(current_line[0])\n",
    "        right_side = list(map(int, current_line[1].split()))\n",
    "        possible_combinations = find_possible_combinations(left_side, right_side)\n",
    "        if possible_combinations:\n",
    "            sum_of_test_values += left_side\n",
    "\n",
    "print(sum_of_test_values)"
   ]
  }
 ],
 "metadata": {
  "kernelspec": {
   "display_name": "base",
   "language": "python",
   "name": "python3"
  },
  "language_info": {
   "codemirror_mode": {
    "name": "ipython",
    "version": 3
   },
   "file_extension": ".py",
   "mimetype": "text/x-python",
   "name": "python",
   "nbconvert_exporter": "python",
   "pygments_lexer": "ipython3",
   "version": "3.10.14"
  }
 },
 "nbformat": 4,
 "nbformat_minor": 2
}
