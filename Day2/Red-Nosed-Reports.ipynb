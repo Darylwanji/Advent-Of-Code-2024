{
 "cells": [
  {
   "cell_type": "markdown",
   "metadata": {},
   "source": [
    "--- Day 2: Red-Nosed Reports ---        \n",
    "\n",
    "\n",
    "Fortunately, the first location The Historians want to search isn't a long walk from the Chief Historian's office.\n",
    "\n",
    "While the Red-Nosed Reindeer nuclear fusion/fission plant appears to contain no sign of the Chief Historian, the engineers there run up to you as soon as they see you. Apparently, they still talk about the time Rudolph was saved through molecular synthesis from a single electron.\n",
    "\n",
    "They're quick to add that - since you're already here - they'd really appreciate your help analyzing some unusual data from the Red-Nosed reactor. You turn to check if The Historians are waiting for you, but they seem to have already divided into groups that are currently searching every corner of the facility. You offer to help with the unusual data.\n",
    "\n",
    "The unusual data (your puzzle input) consists of many reports, one report per line. Each report is a list of numbers called levels that are separated by spaces. For example:\n",
    "\n",
    "7 6 4 2 1   \n",
    "1 2 7 8 9   \n",
    "9 7 6 2 1   \n",
    "1 3 2 4 5   \n",
    "8 6 4 4 1      \n",
    "1 3 6 7 9   \n",
    "\n",
    "This example data contains six reports each containing five levels.\n",
    "\n",
    "The engineers are trying to figure out which reports are safe. The Red-Nosed reactor safety systems can only tolerate levels that are either gradually increasing or gradually decreasing. So, a report only counts as safe if both of the following are true:\n",
    "\n",
    "The levels are either all increasing or all decreasing.\n",
    "Any two adjacent levels differ by at least one and at most three.\n",
    "In the example above, the reports can be found safe or unsafe by checking those rules:\n",
    "\n",
    "7 6 4 2 1: Safe because the levels are all decreasing by 1 or 2.\n",
    "1 2 7 8 9: Unsafe because 2 7 is an increase of 5.\n",
    "9 7 6 2 1: Unsafe because 6 2 is a decrease of 4.\n",
    "1 3 2 4 5: Unsafe because 1 3 is increasing but 3 2 is decreasing.\n",
    "8 6 4 4 1: Unsafe because 4 4 is neither an increase or a decrease.\n",
    "1 3 6 7 9: Safe because the levels are all increasing by 1, 2, or 3.\n",
    "So, in this example, 2 reports are safe.\n",
    "\n",
    "Analyze the unusual data from the engineers. How many reports are safe?\n",
    "\n"
   ]
  },
  {
   "cell_type": "code",
   "execution_count": 84,
   "metadata": {},
   "outputs": [
    {
     "name": "stdout",
     "output_type": "stream",
     "text": [
      "660\n"
     ]
    }
   ],
   "source": [
    "safe = 0\n",
    "with open('input.txt', 'r') as file:\n",
    "    lines = file.readlines()\n",
    "    for line in lines:\n",
    "        levels = [int(level) for level in line.split()]\n",
    "        comparisms = 0 \n",
    "\n",
    "        # Check if the levels are strictly increasing\n",
    "        is_increasing = all(levels[i] < levels[i+1] for i in range(len(levels)-1))\n",
    "        # Check if the levels are strictly decreasing\n",
    "        is_decreasing = all(levels[i] > levels[i+1] for i in range(len(levels)-1))\n",
    "        \n",
    "        if is_increasing or is_decreasing:\n",
    "            for i in range(len(levels)-1):\n",
    "                if abs(levels[i] - levels[i+1]) <= 3:\n",
    "                    comparisms += 1\n",
    "            if comparisms == len(levels)-1:\n",
    "                safe += 1\n",
    "print(safe)"
   ]
  },
  {
   "cell_type": "markdown",
   "metadata": {},
   "source": [
    "--- Part Two ---        \n",
    "The engineers are surprised by the low number of safe reports until they realize they forgot to tell you about the Problem Dampener.\n",
    "\n",
    "The Problem Dampener is a reactor-mounted module that lets the reactor safety systems tolerate a single bad level in what would otherwise be a safe report. It's like the bad level never happened!\n",
    "\n",
    "Now, the same rules apply as before, except if removing a single level from an unsafe report would make it safe, the report instead counts as safe.\n",
    "\n",
    "More of the above example's reports are now safe:\n",
    "\n",
    "7 6 4 2 1: Safe without removing any level.     \n",
    "1 2 7 8 9: Unsafe regardless of which level is removed.     \n",
    "9 7 6 2 1: Unsafe regardless of which level is removed.     \n",
    "1 3 2 4 5: Safe by removing the second level, 3.        \n",
    "8 6 4 4 1: Safe by removing the third level, 4.     \n",
    "1 3 6 7 9: Safe without removing any level.     \n",
    "Thanks to the Problem Dampener, 4 reports are actually safe!        \n",
    "\n",
    "Update your analysis by handling situations where the Problem Dampener can remove a single level from unsafe reports. How many reports are now safe?"
   ]
  },
  {
   "cell_type": "code",
   "execution_count": 85,
   "metadata": {},
   "outputs": [
    {
     "name": "stdout",
     "output_type": "stream",
     "text": [
      "689\n"
     ]
    }
   ],
   "source": [
    "safe = 0\n",
    "with open('input.txt', 'r') as file:\n",
    "    lines = file.readlines()\n",
    "    for line in lines:\n",
    "        levels = [int(level) for level in line.split()]\n",
    "        \n",
    "        # Check if the levels are strictly increasing\n",
    "        is_increasing = all(levels[i] < levels[i + 1] for i in range(len(levels) - 1)) \n",
    "        # Check if the levels are strictly decreasing\n",
    "        is_decreasing = all(levels[i] > levels[i + 1] for i in range(len(levels) - 1))  \n",
    "        \n",
    "        comparisms = 0  \n",
    "        for i in range(len(levels) - 1):\n",
    "            if abs(levels[i] - levels[i + 1]) <= 3:\n",
    "                comparisms += 1\n",
    "        \n",
    "        if (is_increasing or is_decreasing) and comparisms == len(levels) - 1: \n",
    "            safe += 1\n",
    "        else:\n",
    "            for i in range(len(levels)):\n",
    "                modified_levels = levels[:i] + levels[i + 1:]  # Remove one level\n",
    "                \n",
    "                is_increasing = all(modified_levels[j] < modified_levels[j + 1] for j in range(len(modified_levels) - 1))  \n",
    "                is_decreasing = all(modified_levels[j] > modified_levels[j + 1] for j in range(len(modified_levels) - 1)) \n",
    "                \n",
    "                comparisms = 0 \n",
    "                for j in range(len(modified_levels) - 1):\n",
    "                    if abs(modified_levels[j] - modified_levels[j + 1]) <= 3:\n",
    "                        comparisms += 1\n",
    "                \n",
    "                if (is_increasing or is_decreasing) and comparisms == len(modified_levels) - 1:\n",
    "                    safe += 1\n",
    "                    break  # Break out of the loop after finding a safe report\n",
    "print(safe)"
   ]
  }
 ],
 "metadata": {
  "kernelspec": {
   "display_name": "base",
   "language": "python",
   "name": "python3"
  },
  "language_info": {
   "codemirror_mode": {
    "name": "ipython",
    "version": 3
   },
   "file_extension": ".py",
   "mimetype": "text/x-python",
   "name": "python",
   "nbconvert_exporter": "python",
   "pygments_lexer": "ipython3",
   "version": "3.10.14"
  }
 },
 "nbformat": 4,
 "nbformat_minor": 2
}
